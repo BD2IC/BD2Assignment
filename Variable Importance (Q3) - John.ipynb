{
 "cells": [
  {
   "cell_type": "markdown",
   "source": [
    "***Libraries***"
   ],
   "metadata": {
    "collapsed": false
   },
   "id": "f081974d6ba9b862"
  },
  {
   "cell_type": "code",
   "execution_count": 1,
   "id": "initial_id",
   "metadata": {
    "collapsed": true,
    "ExecuteTime": {
     "end_time": "2024-05-30T19:42:25.835769800Z",
     "start_time": "2024-05-30T19:42:21.206638200Z"
    }
   },
   "outputs": [],
   "source": [
    "import sys\n",
    "import pandas as pd\n",
    "import numpy as np\n",
    "import sklearn as skl\n",
    "import tensorflow as tf\n",
    "import scikeras as sck\n",
    "from tqdm import tqdm\n",
    "from sklearn.model_selection import PredefinedSplit\n",
    "from tensorflow.keras.models import Sequential\n",
    "from tensorflow.keras.layers import Input, Dense, Dropout\n",
    "from tensorflow.keras.regularizers import l1, l2, l1_l2\n",
    "from scikeras.wrappers import KerasRegressor\n",
    "from tensorflow.keras.callbacks import EarlyStopping\n",
    "from collections import defaultdict\n",
    "from sklearn.metrics import r2_score"
   ]
  },
  {
   "cell_type": "markdown",
   "source": [
    "***Data preprocessing***"
   ],
   "metadata": {
    "collapsed": false
   },
   "id": "516da644c31f38a7"
  },
  {
   "cell_type": "code",
   "execution_count": 2,
   "outputs": [
    {
     "name": "stdout",
     "output_type": "stream",
     "text": [
      "              date  permno  excess_ret       ret     rfree     mvel1  \\\n",
      "0       1986-02-01   10000   -0.262610 -0.257143  0.005467 -0.375440   \n",
      "1       1986-03-01   10000    0.360335  0.365385  0.005050 -0.496811   \n",
      "2       1986-04-01   10000   -0.103717 -0.098592  0.005125 -0.401783   \n",
      "3       1986-05-01   10000   -0.227831 -0.222656  0.005175 -0.435735   \n",
      "4       1986-06-01   10000   -0.009883 -0.005025  0.004858 -0.534203   \n",
      "...            ...     ...         ...       ...       ...       ...   \n",
      "3739444 2016-08-01   93436   -0.097265 -0.097023  0.000242  0.948225   \n",
      "3739445 2016-09-01   93436   -0.037915 -0.037640  0.000275  0.940011   \n",
      "3739446 2016-10-01   93436   -0.031253 -0.030878  0.000375  0.936380   \n",
      "3739447 2016-11-01   93436   -0.042553 -0.042128  0.000425  0.936096   \n",
      "3739448 2016-12-01   93436    0.127822  0.128247  0.000425  0.929911   \n",
      "\n",
      "             beta    betasq     chmom    dolvol  ...    stdacc     stdcf  \\\n",
      "0        0.000000  0.000000  0.000000  0.000000  ...  0.000000  0.000000   \n",
      "1        0.000000  0.000000  0.000000  0.000000  ...  0.000000  0.000000   \n",
      "2        0.000000  0.000000  0.000000 -0.521182  ...  0.000000  0.000000   \n",
      "3        0.000000  0.000000  0.000000 -0.439391  ...  0.000000  0.000000   \n",
      "4        0.000000  0.000000  0.000000 -0.499678  ...  0.000000  0.000000   \n",
      "...           ...       ...       ...       ...  ...       ...       ...   \n",
      "3739444  0.629726  0.627131  0.490549  0.993659  ...  0.671316  0.825632   \n",
      "3739445  0.654357  0.651773  0.268347  0.993663  ...  0.527009  0.698287   \n",
      "3739446  0.650269  0.647670 -0.310701  0.993629  ...  0.516098  0.690407   \n",
      "3739447  0.638693  0.636094 -0.806963  0.993638  ...  0.430076  0.661731   \n",
      "3739448  0.622969  0.620384 -0.540670  0.993655  ...  0.416828  0.658252   \n",
      "\n",
      "               ms  baspread       ill    maxret    retvol  std_dolvol  \\\n",
      "0        0.000000  0.572822  0.361538  0.938929  0.873640    0.399871   \n",
      "1        0.000000  0.417504  0.520205 -0.138898  0.328870    0.078782   \n",
      "2        0.000000  0.091488  0.329401  0.813365  0.660035    0.142035   \n",
      "3        0.000000  0.329949  0.438295 -0.683852 -0.759048    0.388029   \n",
      "4        0.000000  0.510140  0.610586  0.724257  0.608819   -0.128302   \n",
      "...           ...       ...       ...       ...       ...         ...   \n",
      "3739444 -0.078854  0.148155 -0.981099  0.045653  0.025560   -0.875022   \n",
      "3739445  0.046292 -0.098019 -0.980351 -0.351920 -0.320000   -0.689770   \n",
      "3739446  0.057409  0.146723 -0.976785 -0.233878  0.146123   -0.695017   \n",
      "3739447  0.056117  0.155493 -0.974719  0.488592  0.270109   -0.117120   \n",
      "3739448  0.061157  0.116165 -0.979703 -0.327502 -0.035871   -0.964642   \n",
      "\n",
      "         std_turn  zerotrade  \n",
      "0        0.120000  -0.177810  \n",
      "1       -0.411202   0.130393  \n",
      "2       -0.131985   0.119017  \n",
      "3       -0.199555   0.135402  \n",
      "4       -0.025964   0.007879  \n",
      "...           ...        ...  \n",
      "3739444  0.645082  -0.902396  \n",
      "3739445  0.550254  -0.826056  \n",
      "3739446  0.727944  -0.869879  \n",
      "3739447  0.863086  -0.934702  \n",
      "3739448  0.688244  -0.916010  \n",
      "\n",
      "[3739449 rows x 99 columns]\n",
      "           date        dp        ep       b/m  crsp_spvw      svar     tbl  \\\n",
      "671  1926-12-01       NaN       NaN       NaN        NaN       NaN     NaN   \n",
      "672  1927-01-01 -2.973012 -2.386837  0.441476   0.026047  0.000465  0.0307   \n",
      "673  1927-02-01 -2.942374 -2.374773  0.443706  -0.002910  0.000470  0.0323   \n",
      "674  1927-03-01 -2.979535 -2.430353  0.428501   0.045522  0.000287  0.0329   \n",
      "675  1927-04-01 -2.976535 -2.445079  0.469765   0.007324  0.000924  0.0320   \n",
      "...         ...       ...       ...       ...        ...       ...     ...   \n",
      "1785 2019-10-01 -3.951689 -3.108987  0.233377   0.018791  0.000605  0.0189   \n",
      "1786 2019-11-01 -3.965984 -3.112869  0.232261   0.021621  0.001510  0.0165   \n",
      "1787 2019-12-01 -3.993568 -3.130267  0.223938   0.036206  0.000306  0.0154   \n",
      "1788 2020-01-01 -4.015896 -3.142629  0.220116   0.029787  0.000502  0.0154   \n",
      "1789 2020-02-01 -4.006626 -3.197893  0.222316   0.000108  0.001119  0.0152   \n",
      "\n",
      "         tms     dfy     dfr      ntis      infl  \n",
      "671      NaN     NaN     NaN       NaN       NaN  \n",
      "672   0.0047  0.0100 -0.0022  0.050876  0.000000  \n",
      "673   0.0028  0.0095 -0.0019  0.050824 -0.011299  \n",
      "674   0.0018  0.0092 -0.0019  0.051668 -0.005714  \n",
      "675   0.0011  0.0092 -0.0170  0.046357 -0.005747  \n",
      "...      ...     ...     ...       ...       ...  \n",
      "1785 -0.0019  0.0088  0.0002 -0.010862  0.000783  \n",
      "1786  0.0006  0.0091  0.0058 -0.013181  0.002286  \n",
      "1787  0.0027  0.0088  0.0073 -0.007820 -0.000536  \n",
      "1788  0.0032  0.0087  0.0164 -0.007222 -0.000910  \n",
      "1789  0.0024  0.0083 -0.0113 -0.007717  0.003880  \n",
      "\n",
      "[1119 rows x 12 columns]\n",
      "              date  permno  excess_ret       ret     rfree     mvel1  beta  \\\n",
      "0       1986-02-01   10000   -0.262610 -0.257143  0.005467 -0.375440   0.0   \n",
      "1       1986-02-01   10001    0.014941  0.020408  0.005467 -0.700991   0.0   \n",
      "2       1986-02-01   10002    0.134318  0.139785  0.005467 -0.438120   0.0   \n",
      "3       1986-02-01   10003    0.005897  0.011364  0.005467  0.008634   0.0   \n",
      "4       1986-02-01   10005   -0.338800 -0.333333  0.005467 -0.919092   0.0   \n",
      "...            ...     ...         ...       ...       ...       ...   ...   \n",
      "3739444 1986-01-01   93252   -0.025491 -0.019608  0.005883 -0.415444   0.0   \n",
      "3739445 1986-01-01   93279    0.122322  0.128205  0.005883 -0.301213   0.0   \n",
      "3739446 1986-01-01   93287    0.290413  0.296296  0.005883 -0.177090   0.0   \n",
      "3739447 1986-01-01   93308    0.005882  0.011765  0.005883 -0.089981   0.0   \n",
      "3739448 1986-01-01   93316    0.061685  0.067568  0.005883 -0.190651   0.0   \n",
      "\n",
      "         betasq  chmom    dolvol  ...      ep_y       b/m  crsp_spvw     svar  \\\n",
      "0           0.0    0.0  0.000000  ... -2.675897  0.583517   0.004706  0.00192   \n",
      "1           0.0    0.0  0.000000  ... -2.675897  0.583517   0.004706  0.00192   \n",
      "2           0.0    0.0  0.000000  ... -2.675897  0.583517   0.004706  0.00192   \n",
      "3           0.0    0.0  0.000000  ... -2.675897  0.583517   0.004706  0.00192   \n",
      "4           0.0    0.0  0.000000  ... -2.675897  0.583517   0.004706  0.00192   \n",
      "...         ...    ...       ...  ...       ...       ...        ...      ...   \n",
      "3739444     0.0    0.0 -0.660377  ... -2.671478  0.592693   0.048156  0.00123   \n",
      "3739445     0.0    0.0 -0.628497  ... -2.671478  0.592693   0.048156  0.00123   \n",
      "3739446     0.0    0.0 -0.104099  ... -2.671478  0.592693   0.048156  0.00123   \n",
      "3739447     0.0    0.0 -0.546519  ... -2.671478  0.592693   0.048156  0.00123   \n",
      "3739448     0.0    0.0 -0.063110  ... -2.671478  0.592693   0.048156  0.00123   \n",
      "\n",
      "            tbl     tms     dfy     dfr      ntis      infl  \n",
      "0        0.0707  0.0251  0.0139  0.0070 -0.019172  0.002745  \n",
      "1        0.0707  0.0251  0.0139  0.0070 -0.019172  0.002745  \n",
      "2        0.0707  0.0251  0.0139  0.0070 -0.019172  0.002745  \n",
      "3        0.0707  0.0251  0.0139  0.0070 -0.019172  0.002745  \n",
      "4        0.0707  0.0251  0.0139  0.0070 -0.019172  0.002745  \n",
      "...         ...     ...     ...     ...       ...       ...  \n",
      "3739444  0.0710  0.0246  0.0142 -0.0072 -0.019465  0.002752  \n",
      "3739445  0.0710  0.0246  0.0142 -0.0072 -0.019465  0.002752  \n",
      "3739446  0.0710  0.0246  0.0142 -0.0072 -0.019465  0.002752  \n",
      "3739447  0.0710  0.0246  0.0142 -0.0072 -0.019465  0.002752  \n",
      "3739448  0.0710  0.0246  0.0142 -0.0072 -0.019465  0.002752  \n",
      "\n",
      "[3739449 rows x 110 columns]\n",
      "       mvel1      beta    betasq     chmom    dolvol   idiovol    indmom  \\\n",
      "0  -0.375440  0.000000  0.000000  0.000000  0.000000  0.000000  0.305196   \n",
      "1  -0.700991  0.000000  0.000000  0.000000  0.000000  0.000000  0.305196   \n",
      "2  -0.438120  0.000000  0.000000  0.000000  0.000000  0.000000  0.305196   \n",
      "3   0.008634  0.000000  0.000000  0.000000  0.000000  0.000000  0.305196   \n",
      "4  -0.919092  0.000000  0.000000  0.000000  0.000000  0.000000  0.305196   \n",
      "5   0.158299  0.000000  0.000000  0.000000  0.000000  0.000000  0.305196   \n",
      "6   0.020147  0.000000  0.000000  0.000000  0.000000  0.000000  0.305196   \n",
      "7  -0.705469  0.000000  0.000000  0.000000  0.000000  0.000000  0.305196   \n",
      "8  -0.376719  0.000000  0.000000  0.000000  0.000000  0.000000  0.305196   \n",
      "9  -0.527023  0.000000  0.000000  0.000000  0.000000  0.000000  0.305196   \n",
      "10 -0.793412  0.000000  0.000000  0.000000  0.000000  0.000000  0.305196   \n",
      "11 -0.003838  0.743782  0.743782  0.382145  0.338629  0.384147 -0.776019   \n",
      "12  0.513911  0.000000  0.000000  0.000000  0.000000  0.000000  0.305196   \n",
      "13  0.604093  0.000000  0.000000  0.000000  0.000000  0.000000  0.305196   \n",
      "14 -0.564439  0.000000  0.000000  0.000000  0.000000  0.000000  0.305196   \n",
      "15  0.216821  0.000000  0.000000  0.000000  0.000000  0.000000  0.305196   \n",
      "16  0.445475  0.000000  0.000000  0.000000  0.000000  0.000000  0.305196   \n",
      "17 -0.526063  0.000000  0.000000  0.000000  0.000000  0.000000  0.305196   \n",
      "18 -0.099137  0.000000  0.000000  0.000000  0.000000  0.000000  0.305196   \n",
      "19 -0.464023  0.124351  0.121131 -0.885674 -0.572054 -0.184827 -0.710152   \n",
      "20  0.279821  0.501521  0.500805  0.052576  0.361647 -0.028091 -0.848601   \n",
      "21  0.699392 -0.586330 -0.606012 -0.083627  0.221916 -0.986044  0.053397   \n",
      "22 -0.751839 -0.805690 -0.842548 -0.788285 -0.776139  0.724817 -0.615827   \n",
      "23 -0.497282 -0.332618 -0.341564 -0.401200 -0.471551  0.414206 -0.476259   \n",
      "24 -0.663575  0.412775  0.410986  0.831687 -0.481277  0.901235  0.872582   \n",
      "25 -0.778062 -0.815709 -0.853283 -0.769936 -0.942941  0.441403 -0.693525   \n",
      "26  0.908858 -0.801753 -0.838254  0.368384  0.893986 -0.958132  0.775540   \n",
      "27  0.991046 -0.009841 -0.013777 -0.273818  0.990922 -0.802827 -0.723901   \n",
      "28 -0.316597 -0.501163 -0.515477  0.850741 -0.237478  0.249955 -0.615827   \n",
      "29  0.171730  0.447486  0.446055  0.534933  0.366834  0.376991 -0.960032   \n",
      "30  0.126319  0.313294  0.311505 -0.286168  0.334090 -0.085346 -0.289528   \n",
      "31  0.844260  0.457148  0.455717 -0.046930  0.887178 -0.382716 -0.693525   \n",
      "32 -0.395267 -0.898372 -0.960279  0.718419 -0.546766 -0.978887 -0.403517   \n",
      "33 -0.602175  0.915906  0.915906  0.832040 -0.041984  0.730184 -0.289528   \n",
      "34  0.963224 -0.440687 -0.453212  0.231122  0.945534 -0.939882  0.837890   \n",
      "35  0.910138  0.242441  0.240293  0.030346  0.941644 -0.807479  0.671143   \n",
      "36 -0.474896  0.093219  0.089640 -0.527170 -0.443022  0.296475 -0.403517   \n",
      "\n",
      "       mom1m     mom6m    mom12m  ...      ep_y       b/m  crsp_spvw     svar  \\\n",
      "0   0.000000  0.000000  0.000000  ... -2.675897  0.583517   0.004706  0.00192   \n",
      "1   0.000000  0.000000  0.000000  ... -2.675897  0.583517   0.004706  0.00192   \n",
      "2   0.000000  0.000000  0.000000  ... -2.675897  0.583517   0.004706  0.00192   \n",
      "3   0.000000  0.000000  0.000000  ... -2.675897  0.583517   0.004706  0.00192   \n",
      "4   0.000000  0.000000  0.000000  ... -2.675897  0.583517   0.004706  0.00192   \n",
      "5   0.000000  0.000000  0.000000  ... -2.675897  0.583517   0.004706  0.00192   \n",
      "6   0.000000  0.000000  0.000000  ... -2.675897  0.583517   0.004706  0.00192   \n",
      "7   0.000000  0.000000  0.000000  ... -2.675897  0.583517   0.004706  0.00192   \n",
      "8   0.000000  0.000000  0.000000  ... -2.675897  0.583517   0.004706  0.00192   \n",
      "9   0.000000  0.000000  0.000000  ... -2.675897  0.583517   0.004706  0.00192   \n",
      "10  0.000000  0.000000  0.000000  ... -2.675897  0.583517   0.004706  0.00192   \n",
      "11 -0.180766  0.899732  0.914255  ... -2.675897  0.583517   0.004706  0.00192   \n",
      "12  0.000000  0.000000  0.000000  ... -2.675897  0.583517   0.004706  0.00192   \n",
      "13  0.000000  0.000000  0.000000  ... -2.675897  0.583517   0.004706  0.00192   \n",
      "14  0.000000  0.000000  0.000000  ... -2.675897  0.583517   0.004706  0.00192   \n",
      "15  0.000000  0.000000  0.000000  ... -2.675897  0.583517   0.004706  0.00192   \n",
      "16  0.000000  0.000000  0.000000  ... -2.675897  0.583517   0.004706  0.00192   \n",
      "17  0.000000  0.000000  0.000000  ... -2.675897  0.583517   0.004706  0.00192   \n",
      "18  0.000000  0.000000  0.000000  ... -2.675897  0.583517   0.004706  0.00192   \n",
      "19 -0.034416 -0.401408  0.609386  ... -2.675897  0.583517   0.004706  0.00192   \n",
      "20  0.507559 -0.620389 -0.664432  ... -2.675897  0.583517   0.004706  0.00192   \n",
      "21 -0.269218  0.160630  0.208539  ... -2.675897  0.583517   0.004706  0.00192   \n",
      "22  0.990994 -0.937961 -0.734298  ... -2.675897  0.583517   0.004706  0.00192   \n",
      "23  0.010936  0.697854  0.872265  ... -2.675897  0.583517   0.004706  0.00192   \n",
      "24  0.682374  0.732730  0.399788  ... -2.675897  0.583517   0.004706  0.00192   \n",
      "25 -0.445320  0.119048  0.735356  ... -2.675897  0.583517   0.004706  0.00192   \n",
      "26  0.273400  0.383300  0.282992  ... -2.675897  0.583517   0.004706  0.00192   \n",
      "27 -0.088453  0.109658  0.303105  ... -2.675897  0.583517   0.004706  0.00192   \n",
      "28 -0.700225  0.808853 -0.241002  ... -2.675897  0.583517   0.004706  0.00192   \n",
      "29  0.299936 -0.579812 -0.813338  ... -2.675897  0.583517   0.004706  0.00192   \n",
      "30 -0.668865 -0.454058 -0.502470  ... -2.675897  0.583517   0.004706  0.00192   \n",
      "31 -0.180766 -0.542589 -0.617149  ... -2.675897  0.583517   0.004706  0.00192   \n",
      "32  0.670794  0.560027  0.293578  ... -2.675897  0.583517   0.004706  0.00192   \n",
      "33  0.749920 -0.552649 -0.894495  ... -2.675897  0.583517   0.004706  0.00192   \n",
      "34  0.147636  0.097586 -0.021877  ... -2.675897  0.583517   0.004706  0.00192   \n",
      "35  0.551785  0.072770  0.261821  ... -2.675897  0.583517   0.004706  0.00192   \n",
      "36  0.959151 -0.747150 -0.279817  ... -2.675897  0.583517   0.004706  0.00192   \n",
      "\n",
      "       tbl     tms     dfy    dfr      ntis      infl  \n",
      "0   0.0707  0.0251  0.0139  0.007 -0.019172  0.002745  \n",
      "1   0.0707  0.0251  0.0139  0.007 -0.019172  0.002745  \n",
      "2   0.0707  0.0251  0.0139  0.007 -0.019172  0.002745  \n",
      "3   0.0707  0.0251  0.0139  0.007 -0.019172  0.002745  \n",
      "4   0.0707  0.0251  0.0139  0.007 -0.019172  0.002745  \n",
      "5   0.0707  0.0251  0.0139  0.007 -0.019172  0.002745  \n",
      "6   0.0707  0.0251  0.0139  0.007 -0.019172  0.002745  \n",
      "7   0.0707  0.0251  0.0139  0.007 -0.019172  0.002745  \n",
      "8   0.0707  0.0251  0.0139  0.007 -0.019172  0.002745  \n",
      "9   0.0707  0.0251  0.0139  0.007 -0.019172  0.002745  \n",
      "10  0.0707  0.0251  0.0139  0.007 -0.019172  0.002745  \n",
      "11  0.0707  0.0251  0.0139  0.007 -0.019172  0.002745  \n",
      "12  0.0707  0.0251  0.0139  0.007 -0.019172  0.002745  \n",
      "13  0.0707  0.0251  0.0139  0.007 -0.019172  0.002745  \n",
      "14  0.0707  0.0251  0.0139  0.007 -0.019172  0.002745  \n",
      "15  0.0707  0.0251  0.0139  0.007 -0.019172  0.002745  \n",
      "16  0.0707  0.0251  0.0139  0.007 -0.019172  0.002745  \n",
      "17  0.0707  0.0251  0.0139  0.007 -0.019172  0.002745  \n",
      "18  0.0707  0.0251  0.0139  0.007 -0.019172  0.002745  \n",
      "19  0.0707  0.0251  0.0139  0.007 -0.019172  0.002745  \n",
      "20  0.0707  0.0251  0.0139  0.007 -0.019172  0.002745  \n",
      "21  0.0707  0.0251  0.0139  0.007 -0.019172  0.002745  \n",
      "22  0.0707  0.0251  0.0139  0.007 -0.019172  0.002745  \n",
      "23  0.0707  0.0251  0.0139  0.007 -0.019172  0.002745  \n",
      "24  0.0707  0.0251  0.0139  0.007 -0.019172  0.002745  \n",
      "25  0.0707  0.0251  0.0139  0.007 -0.019172  0.002745  \n",
      "26  0.0707  0.0251  0.0139  0.007 -0.019172  0.002745  \n",
      "27  0.0707  0.0251  0.0139  0.007 -0.019172  0.002745  \n",
      "28  0.0707  0.0251  0.0139  0.007 -0.019172  0.002745  \n",
      "29  0.0707  0.0251  0.0139  0.007 -0.019172  0.002745  \n",
      "30  0.0707  0.0251  0.0139  0.007 -0.019172  0.002745  \n",
      "31  0.0707  0.0251  0.0139  0.007 -0.019172  0.002745  \n",
      "32  0.0707  0.0251  0.0139  0.007 -0.019172  0.002745  \n",
      "33  0.0707  0.0251  0.0139  0.007 -0.019172  0.002745  \n",
      "34  0.0707  0.0251  0.0139  0.007 -0.019172  0.002745  \n",
      "35  0.0707  0.0251  0.0139  0.007 -0.019172  0.002745  \n",
      "36  0.0707  0.0251  0.0139  0.007 -0.019172  0.002745  \n",
      "\n",
      "[37 rows x 105 columns]\n",
      "0    -0.262610\n",
      "1     0.014941\n",
      "2     0.134318\n",
      "3     0.005897\n",
      "4    -0.338800\n",
      "5    -0.202835\n",
      "6     0.114191\n",
      "7     0.192450\n",
      "8    -0.142967\n",
      "9     0.096574\n",
      "10   -0.246846\n",
      "11    0.080953\n",
      "12    0.389078\n",
      "13    0.059622\n",
      "14   -0.137820\n",
      "15    0.108047\n",
      "16    0.356071\n",
      "17    0.067704\n",
      "18    0.242152\n",
      "19   -0.031783\n",
      "20   -0.106384\n",
      "21    0.036787\n",
      "22    0.437156\n",
      "23    0.202080\n",
      "24    0.350089\n",
      "25   -0.039950\n",
      "26    0.083819\n",
      "27    0.094533\n",
      "28    0.082445\n",
      "29   -0.176896\n",
      "30    0.095450\n",
      "31   -0.032990\n",
      "32    0.183977\n",
      "33    0.188081\n",
      "34    0.129969\n",
      "35    0.163413\n",
      "36   -0.021092\n",
      "Name: excess_ret, dtype: float64\n"
     ]
    }
   ],
   "source": [
    "#################################################### Data Preprocessing ####################################################\n",
    "# Import the data\n",
    "return_data = pd.read_pickle('returns_chars_panel.pkl')\n",
    "return_data['date'] = pd.to_datetime(return_data['date'])\n",
    "print(return_data)\n",
    "\n",
    "macro_data = pd.read_pickle('macro_timeseries.pkl')\n",
    "macro_data['date'] = pd.to_datetime(macro_data['date'])\n",
    "print(macro_data)\n",
    "\n",
    "original_data = pd.merge(return_data, macro_data, how='inner', on='date')\n",
    "print(original_data)\n",
    "\n",
    "# Preparation for Grid Search\n",
    "# Split a small portion of data for experiments\n",
    "exp_size = 0.00001\n",
    "n_exp = int(original_data.shape[0] * exp_size)\n",
    "exp_data = original_data.iloc[:n_exp, ]\n",
    "X_exp = exp_data.drop(['ret', 'excess_ret', 'rfree', 'permno', 'date'], axis=1)\n",
    "y_exp = exp_data['excess_ret']\n",
    "print(X_exp)\n",
    "print(y_exp)\n",
    "X = X_exp.values\n",
    "y = y_exp.values\n",
    "\n",
    "# Split the data manually (keep the data sequence in time-series)\n",
    "train_size = 0.8\n",
    "test_size = 1 - train_size\n",
    "\n",
    "n_observations = X.shape[0]\n",
    "n_train = int(n_observations * train_size)\n",
    "X_train, X_test = X[:n_train, ], X[n_train:, ]\n",
    "y_train, y_test = y[:n_train, ], y[n_train:, ]\n",
    "\n",
    "# Standardise the data\n",
    "standard_scaler = skl.preprocessing.StandardScaler()\n",
    "standard_scaler.fit(X_train)\n",
    "X_train = standard_scaler.transform(X_train)\n",
    "X_test = standard_scaler.transform(X_test)\n",
    "\n",
    "# Index-generating function for rolling-window time-series cross validation\n",
    "each_window_size = int(0.2 * X_train.shape[0])\n",
    "n_train_window = int(0.75 * each_window_size)\n",
    "n_test_window = each_window_size - n_train_window\n",
    "\n",
    "\n",
    "def rolling_window_index_generator(X_train, train_window_size=n_train_window, test_window_size=n_test_window,\n",
    "                                   step_size=1):\n",
    "    n_samples = X_train.shape[0]\n",
    "    indices = np.arange(n_samples)\n",
    "    for start in range(0, n_samples - train_window_size - test_window_size + 1, step_size):\n",
    "        train_end = start + train_window_size\n",
    "        test_end = train_end + test_window_size\n",
    "\n",
    "        if test_end <= n_samples:\n",
    "            train_indices = indices[start:train_end]\n",
    "            test_indices = indices[train_end:test_end]\n",
    "\n",
    "            yield train_indices, test_indices\n",
    "\n",
    "\n",
    "# Implement rolling-window time-series cross validation for hyperparameter grid search\n",
    "val_scores_dict = defaultdict(list)\n",
    "\n",
    "\n",
    "# Get a function to transfer the list types in params.items() to tuple types\n",
    "# for further use when we use these tuples as the keys of val_scores_dict\n",
    "def make_hashable(params):\n",
    "    hashable_params = {}\n",
    "    for key, value in params.items():\n",
    "        if isinstance(value, list):\n",
    "            hashable_params[key] = tuple(value)\n",
    "        else:\n",
    "            hashable_params[key] = value\n",
    "    return hashable_params"
   ],
   "metadata": {
    "collapsed": false,
    "ExecuteTime": {
     "end_time": "2024-05-30T19:42:32.127972300Z",
     "start_time": "2024-05-30T19:42:25.840753800Z"
    }
   },
   "id": "a93e4b57253a313e"
  },
  {
   "cell_type": "markdown",
   "source": [
    "***Neural Network model with 2 hidden layers***\n",
    "\n",
    "I assume that NN2 is the best performing model in (NN2, NN3, NN4)\n",
    "\n",
    "In order to save time, I have run the hyperparameter optimization and the optimal result was:\n",
    "Optimised hyperparameters for 2 layers: {'model__activation_func': 'sigmoid',\n",
    "                                          'model__dropout_rate': 0.0,\n",
    "                                          'model__learning_rate': 0.01,\n",
    "                                          'model__neurons_n': (256, 128),\n",
    "                                          'model__optimizer': 'adam',\n",
    "                                          'model__regularize_terms': None}\n",
    "& Average validation score: -15.530594442895104"
   ],
   "metadata": {
    "collapsed": false
   },
   "id": "910baf4d8169d3f9"
  },
  {
   "cell_type": "code",
   "execution_count": 3,
   "outputs": [
    {
     "name": "stderr",
     "output_type": "stream",
     "text": [
      "  0%|          | 0/25 [00:00<?, ?it/s]"
     ]
    },
    {
     "name": "stdout",
     "output_type": "stream",
     "text": [
      "\u001B[1m2494/2494\u001B[0m \u001B[32m━━━━━━━━━━━━━━━━━━━━\u001B[0m\u001B[37m\u001B[0m \u001B[1m1s\u001B[0m 537us/step\n"
     ]
    },
    {
     "name": "stderr",
     "output_type": "stream",
     "text": [
      "  4%|▍         | 1/25 [00:04<01:51,  4.65s/it]"
     ]
    },
    {
     "name": "stdout",
     "output_type": "stream",
     "text": [
      "\u001B[1m2551/2551\u001B[0m \u001B[32m━━━━━━━━━━━━━━━━━━━━\u001B[0m\u001B[37m\u001B[0m \u001B[1m1s\u001B[0m 479us/step\n"
     ]
    },
    {
     "name": "stderr",
     "output_type": "stream",
     "text": [
      "  8%|▊         | 2/25 [00:08<01:37,  4.26s/it]"
     ]
    },
    {
     "name": "stdout",
     "output_type": "stream",
     "text": [
      "\u001B[1m2705/2705\u001B[0m \u001B[32m━━━━━━━━━━━━━━━━━━━━\u001B[0m\u001B[37m\u001B[0m \u001B[1m1s\u001B[0m 460us/step\n"
     ]
    },
    {
     "name": "stderr",
     "output_type": "stream",
     "text": [
      " 12%|█▏        | 3/25 [00:14<01:50,  5.01s/it]"
     ]
    },
    {
     "name": "stdout",
     "output_type": "stream",
     "text": [
      "\u001B[1m2989/2989\u001B[0m \u001B[32m━━━━━━━━━━━━━━━━━━━━\u001B[0m\u001B[37m\u001B[0m \u001B[1m1s\u001B[0m 486us/step\n"
     ]
    },
    {
     "name": "stderr",
     "output_type": "stream",
     "text": [
      " 16%|█▌        | 4/25 [00:18<01:38,  4.67s/it]"
     ]
    },
    {
     "name": "stdout",
     "output_type": "stream",
     "text": [
      "\u001B[1m3075/3075\u001B[0m \u001B[32m━━━━━━━━━━━━━━━━━━━━\u001B[0m\u001B[37m\u001B[0m \u001B[1m2s\u001B[0m 485us/step\n"
     ]
    },
    {
     "name": "stderr",
     "output_type": "stream",
     "text": [
      " 20%|██        | 5/25 [00:24<01:40,  5.03s/it]"
     ]
    },
    {
     "name": "stdout",
     "output_type": "stream",
     "text": [
      "\u001B[1m3248/3248\u001B[0m \u001B[32m━━━━━━━━━━━━━━━━━━━━\u001B[0m\u001B[37m\u001B[0m \u001B[1m2s\u001B[0m 500us/step\n"
     ]
    },
    {
     "name": "stderr",
     "output_type": "stream",
     "text": [
      " 24%|██▍       | 6/25 [00:33<02:04,  6.57s/it]"
     ]
    },
    {
     "name": "stdout",
     "output_type": "stream",
     "text": [
      "\u001B[1m3376/3376\u001B[0m \u001B[32m━━━━━━━━━━━━━━━━━━━━\u001B[0m\u001B[37m\u001B[0m \u001B[1m2s\u001B[0m 463us/step\n"
     ]
    },
    {
     "name": "stderr",
     "output_type": "stream",
     "text": [
      " 28%|██▊       | 7/25 [00:39<01:51,  6.19s/it]"
     ]
    },
    {
     "name": "stdout",
     "output_type": "stream",
     "text": [
      "\u001B[1m3337/3337\u001B[0m \u001B[32m━━━━━━━━━━━━━━━━━━━━\u001B[0m\u001B[37m\u001B[0m \u001B[1m2s\u001B[0m 485us/step\n"
     ]
    },
    {
     "name": "stderr",
     "output_type": "stream",
     "text": [
      " 32%|███▏      | 8/25 [00:45<01:43,  6.10s/it]"
     ]
    },
    {
     "name": "stdout",
     "output_type": "stream",
     "text": [
      "\u001B[1m3155/3155\u001B[0m \u001B[32m━━━━━━━━━━━━━━━━━━━━\u001B[0m\u001B[37m\u001B[0m \u001B[1m2s\u001B[0m 493us/step\n"
     ]
    },
    {
     "name": "stderr",
     "output_type": "stream",
     "text": [
      " 36%|███▌      | 9/25 [00:53<01:48,  6.80s/it]"
     ]
    },
    {
     "name": "stdout",
     "output_type": "stream",
     "text": [
      "\u001B[1m3088/3088\u001B[0m \u001B[32m━━━━━━━━━━━━━━━━━━━━\u001B[0m\u001B[37m\u001B[0m \u001B[1m2s\u001B[0m 494us/step\n"
     ]
    },
    {
     "name": "stderr",
     "output_type": "stream",
     "text": [
      " 40%|████      | 10/25 [01:01<01:45,  7.05s/it]"
     ]
    },
    {
     "name": "stdout",
     "output_type": "stream",
     "text": [
      "\u001B[1m2884/2884\u001B[0m \u001B[32m━━━━━━━━━━━━━━━━━━━━\u001B[0m\u001B[37m\u001B[0m \u001B[1m1s\u001B[0m 501us/step\n"
     ]
    },
    {
     "name": "stderr",
     "output_type": "stream",
     "text": [
      " 44%|████▍     | 11/25 [01:11<01:53,  8.13s/it]"
     ]
    },
    {
     "name": "stdout",
     "output_type": "stream",
     "text": [
      "\u001B[1m2688/2688\u001B[0m \u001B[32m━━━━━━━━━━━━━━━━━━━━\u001B[0m\u001B[37m\u001B[0m \u001B[1m1s\u001B[0m 516us/step\n"
     ]
    },
    {
     "name": "stderr",
     "output_type": "stream",
     "text": [
      " 48%|████▊     | 12/25 [01:24<02:03,  9.52s/it]"
     ]
    },
    {
     "name": "stdout",
     "output_type": "stream",
     "text": [
      "\u001B[1m2535/2535\u001B[0m \u001B[32m━━━━━━━━━━━━━━━━━━━━\u001B[0m\u001B[37m\u001B[0m \u001B[1m1s\u001B[0m 500us/step\n"
     ]
    },
    {
     "name": "stderr",
     "output_type": "stream",
     "text": [
      " 52%|█████▏    | 13/25 [01:31<01:46,  8.86s/it]"
     ]
    },
    {
     "name": "stdout",
     "output_type": "stream",
     "text": [
      "\u001B[1m2497/2497\u001B[0m \u001B[32m━━━━━━━━━━━━━━━━━━━━\u001B[0m\u001B[37m\u001B[0m \u001B[1m1s\u001B[0m 477us/step\n"
     ]
    },
    {
     "name": "stderr",
     "output_type": "stream",
     "text": [
      " 56%|█████▌    | 14/25 [01:39<01:33,  8.49s/it]"
     ]
    },
    {
     "name": "stdout",
     "output_type": "stream",
     "text": [
      "\u001B[1m2510/2510\u001B[0m \u001B[32m━━━━━━━━━━━━━━━━━━━━\u001B[0m\u001B[37m\u001B[0m \u001B[1m1s\u001B[0m 531us/step\n"
     ]
    },
    {
     "name": "stderr",
     "output_type": "stream",
     "text": [
      " 60%|██████    | 15/25 [01:54<01:44, 10.41s/it]"
     ]
    },
    {
     "name": "stdout",
     "output_type": "stream",
     "text": [
      "\u001B[1m2520/2520\u001B[0m \u001B[32m━━━━━━━━━━━━━━━━━━━━\u001B[0m\u001B[37m\u001B[0m \u001B[1m1s\u001B[0m 463us/step\n"
     ]
    },
    {
     "name": "stderr",
     "output_type": "stream",
     "text": [
      " 64%|██████▍   | 16/25 [02:02<01:27,  9.76s/it]"
     ]
    },
    {
     "name": "stdout",
     "output_type": "stream",
     "text": [
      "\u001B[1m2554/2554\u001B[0m \u001B[32m━━━━━━━━━━━━━━━━━━━━\u001B[0m\u001B[37m\u001B[0m \u001B[1m1s\u001B[0m 458us/step\n"
     ]
    },
    {
     "name": "stderr",
     "output_type": "stream",
     "text": [
      " 68%|██████▊   | 17/25 [02:24<01:46, 13.31s/it]"
     ]
    },
    {
     "name": "stdout",
     "output_type": "stream",
     "text": [
      "\u001B[1m2451/2451\u001B[0m \u001B[32m━━━━━━━━━━━━━━━━━━━━\u001B[0m\u001B[37m\u001B[0m \u001B[1m1s\u001B[0m 460us/step\n"
     ]
    },
    {
     "name": "stderr",
     "output_type": "stream",
     "text": [
      " 72%|███████▏  | 18/25 [02:36<01:31, 13.14s/it]"
     ]
    },
    {
     "name": "stdout",
     "output_type": "stream",
     "text": [
      "\u001B[1m2195/2195\u001B[0m \u001B[32m━━━━━━━━━━━━━━━━━━━━\u001B[0m\u001B[37m\u001B[0m \u001B[1m1s\u001B[0m 472us/step\n"
     ]
    },
    {
     "name": "stderr",
     "output_type": "stream",
     "text": [
      " 76%|███████▌  | 19/25 [02:45<01:11, 11.90s/it]"
     ]
    },
    {
     "name": "stdout",
     "output_type": "stream",
     "text": [
      "\u001B[1m2134/2134\u001B[0m \u001B[32m━━━━━━━━━━━━━━━━━━━━\u001B[0m\u001B[37m\u001B[0m \u001B[1m1s\u001B[0m 480us/step\n"
     ]
    },
    {
     "name": "stderr",
     "output_type": "stream",
     "text": [
      " 80%|████████  | 20/25 [02:57<00:58, 11.75s/it]"
     ]
    },
    {
     "name": "stdout",
     "output_type": "stream",
     "text": [
      "\u001B[1m2105/2105\u001B[0m \u001B[32m━━━━━━━━━━━━━━━━━━━━\u001B[0m\u001B[37m\u001B[0m \u001B[1m1s\u001B[0m 480us/step\n"
     ]
    },
    {
     "name": "stderr",
     "output_type": "stream",
     "text": [
      " 84%|████████▍ | 21/25 [03:09<00:47, 11.76s/it]"
     ]
    },
    {
     "name": "stdout",
     "output_type": "stream",
     "text": [
      "\u001B[1m2073/2073\u001B[0m \u001B[32m━━━━━━━━━━━━━━━━━━━━\u001B[0m\u001B[37m\u001B[0m \u001B[1m1s\u001B[0m 561us/step\n"
     ]
    },
    {
     "name": "stderr",
     "output_type": "stream",
     "text": [
      " 88%|████████▊ | 22/25 [03:25<00:39, 13.31s/it]"
     ]
    },
    {
     "name": "stdout",
     "output_type": "stream",
     "text": [
      "\u001B[1m2056/2056\u001B[0m \u001B[32m━━━━━━━━━━━━━━━━━━━━\u001B[0m\u001B[37m\u001B[0m \u001B[1m1s\u001B[0m 480us/step\n"
     ]
    },
    {
     "name": "stderr",
     "output_type": "stream",
     "text": [
      " 92%|█████████▏| 23/25 [03:41<00:27, 13.88s/it]"
     ]
    },
    {
     "name": "stdout",
     "output_type": "stream",
     "text": [
      "\u001B[1m2115/2115\u001B[0m \u001B[32m━━━━━━━━━━━━━━━━━━━━\u001B[0m\u001B[37m\u001B[0m \u001B[1m1s\u001B[0m 516us/step\n"
     ]
    },
    {
     "name": "stderr",
     "output_type": "stream",
     "text": [
      " 96%|█████████▌| 24/25 [03:56<00:14, 14.40s/it]"
     ]
    },
    {
     "name": "stdout",
     "output_type": "stream",
     "text": [
      "\u001B[1m2160/2160\u001B[0m \u001B[32m━━━━━━━━━━━━━━━━━━━━\u001B[0m\u001B[37m\u001B[0m \u001B[1m1s\u001B[0m 487us/step\n"
     ]
    },
    {
     "name": "stderr",
     "output_type": "stream",
     "text": [
      "100%|██████████| 25/25 [04:10<00:00, 10.01s/it]"
     ]
    },
    {
     "name": "stdout",
     "output_type": "stream",
     "text": [
      "-0.03764447540734636\n"
     ]
    },
    {
     "name": "stderr",
     "output_type": "stream",
     "text": [
      "\n"
     ]
    }
   ],
   "source": [
    "# Neural Network 2 Function\n",
    "def neural_net_2(input_shape, optimizer, learning_rate, activation_func, neurons_n, dropout_rate, regularize_terms,\n",
    "                 loss_func='mse', metrics_func=['mae']):\n",
    "    model = Sequential()\n",
    "    model.add(Input(shape=input_shape))\n",
    "    model.add(Dense(neurons_n[0], activation=activation_func, kernel_regularizer=regularize_terms))\n",
    "    if dropout_rate > 0:\n",
    "        model.add(Dropout(dropout_rate))\n",
    "    model.add(Dense(neurons_n[1], activation=activation_func, kernel_regularizer=regularize_terms))\n",
    "    if dropout_rate > 0:\n",
    "        model.add(Dropout(dropout_rate))\n",
    "    model.add(Dense(1))\n",
    "    optimizer_instance = tf.keras.optimizers.get(optimizer)\n",
    "    optimizer_instance.learning_rate = learning_rate\n",
    "    model.compile(optimizer=optimizer_instance, loss=loss_func, metrics=metrics_func)\n",
    "    return model\n",
    "\n",
    "val_scores_dict_2 = defaultdict(list)\n",
    "\n",
    "# Train models with optimised hyperparameters\n",
    "NN_2 = neural_net_2(input_shape=(X_train.shape[1],),\n",
    "                    optimizer='adam',\n",
    "                    learning_rate=0.01,\n",
    "                    activation_func='sigmoid',\n",
    "                    dropout_rate=0.0,\n",
    "                    neurons_n=(256, 128),\n",
    "                    regularize_terms=None)\n",
    "\n",
    "X_NN = original_data.drop(['ret', 'excess_ret', 'rfree', 'permno', 'date'], axis=1)\n",
    "y_NN = original_data['excess_ret']\n",
    "date = original_data['date']\n",
    "\n",
    "\n",
    "def expanding_window_indices(start_date, end_date, step_size='1Y', val_size='4Y', test_size='1Y'):\n",
    "    date_range = pd.date_range(start=start_date, end=end_date, freq=step_size)\n",
    "    indices = []\n",
    "    for end_val in date_range:\n",
    "        start = pd.Timestamp(start_date)\n",
    "        end_train = end_val - pd.DateOffset(years=int(test_size[:-1])) - pd.DateOffset(years=int(val_size[:-1]))\n",
    "        if end_train < start:\n",
    "            continue\n",
    "        train_mask = (date >= start) & (date <= end_train)\n",
    "        val_mask = (date > end_train) & (date <= (end_train + pd.DateOffset(years=int(val_size[:-1]))))\n",
    "        test_mask = (date > (end_train + pd.DateOffset(years=int(val_size[:-1])))) & (date <= end_val)\n",
    "        if test_mask.any():\n",
    "            indices.append((train_mask, val_mask, test_mask))\n",
    "    return indices\n",
    "\n",
    "\n",
    "# Generate the expanding window indices\n",
    "expanding_indices = expanding_window_indices('1986-02-01', '2016-12-01')\n",
    "\n",
    "r2_oos_2 = []\n",
    "\n",
    "for train_mask, val_mask, test_mask in tqdm(expanding_indices):\n",
    "    X_train, y_train = X_NN.loc[train_mask].values, y_NN.loc[train_mask].values\n",
    "    X_val, y_val = X_NN.loc[val_mask].values, y_NN.loc[val_mask].values\n",
    "    X_test, y_test = X_NN.loc[test_mask].values, y_NN.loc[test_mask].values\n",
    "\n",
    "    NN2_history = NN_2.fit(X_train, y_train, epochs=100, batch_size=10000,\n",
    "                           validation_data=(X_val, y_val), verbose=0,\n",
    "                           callbacks=[EarlyStopping(patience=2, restore_best_weights=True)])\n",
    "    \n",
    "    predictions = NN_2.predict(X_test)\n",
    "    r2 = r2_score(y_test, predictions)\n",
    "    r2_oos_2.append(r2)\n",
    "\n",
    "r2_oos_2_mean = np.mean(r2_oos_2)\n",
    "print(r2_oos_2_mean)"
   ],
   "metadata": {
    "collapsed": false,
    "ExecuteTime": {
     "end_time": "2024-05-30T19:46:44.553007400Z",
     "start_time": "2024-05-30T19:42:32.144091700Z"
    }
   },
   "id": "d82a335c558e8054"
  },
  {
   "cell_type": "markdown",
   "source": [
    "***Variable Importance Analysis***"
   ],
   "metadata": {
    "collapsed": false
   },
   "id": "a9ca6374e00b75d3"
  },
  {
   "cell_type": "markdown",
   "source": [
    "First, for all stock characteristics, get variable importance by setting one predictor at a time to zero and finding the decrease in out of sample R2. Show a table of the 10 most important variables according to this measure, and give an economic interpretation."
   ],
   "metadata": {
    "collapsed": false
   },
   "id": "6834c7034df975ac"
  },
  {
   "cell_type": "code",
   "execution_count": 4,
   "outputs": [
    {
     "name": "stdout",
     "output_type": "stream",
     "text": [
      "\u001B[1m2160/2160\u001B[0m \u001B[32m━━━━━━━━━━━━━━━━━━━━\u001B[0m\u001B[37m\u001B[0m \u001B[1m1s\u001B[0m 470us/step\n",
      "Variable 'mvel1' set to zero. New R²: -0.009216287082256303, Importance: ('mvel1', -0.02842818832509006)\n",
      "\u001B[1m2160/2160\u001B[0m \u001B[32m━━━━━━━━━━━━━━━━━━━━\u001B[0m\u001B[37m\u001B[0m \u001B[1m1s\u001B[0m 481us/step\n",
      "Variable 'beta' set to zero. New R²: -0.008226207818119446, Importance: ('beta', -0.029418267589226915)\n",
      "\u001B[1m2160/2160\u001B[0m \u001B[32m━━━━━━━━━━━━━━━━━━━━\u001B[0m\u001B[37m\u001B[0m \u001B[1m1s\u001B[0m 475us/step\n",
      "Variable 'betasq' set to zero. New R²: -0.009012211053185393, Importance: ('betasq', -0.02863226435416097)\n",
      "\u001B[1m2160/2160\u001B[0m \u001B[32m━━━━━━━━━━━━━━━━━━━━\u001B[0m\u001B[37m\u001B[0m \u001B[1m1s\u001B[0m 459us/step\n",
      "Variable 'chmom' set to zero. New R²: -0.008634825668034196, Importance: ('chmom', -0.029009649739312166)\n",
      "\u001B[1m2160/2160\u001B[0m \u001B[32m━━━━━━━━━━━━━━━━━━━━\u001B[0m\u001B[37m\u001B[0m \u001B[1m1s\u001B[0m 493us/step\n",
      "Variable 'dolvol' set to zero. New R²: -0.007913214970915794, Importance: ('dolvol', -0.029731260436430568)\n",
      "\u001B[1m2160/2160\u001B[0m \u001B[32m━━━━━━━━━━━━━━━━━━━━\u001B[0m\u001B[37m\u001B[0m \u001B[1m1s\u001B[0m 501us/step\n",
      "Variable 'idiovol' set to zero. New R²: -0.009042720189200937, Importance: ('idiovol', -0.028601755218145425)\n",
      "\u001B[1m2160/2160\u001B[0m \u001B[32m━━━━━━━━━━━━━━━━━━━━\u001B[0m\u001B[37m\u001B[0m \u001B[1m1s\u001B[0m 521us/step\n",
      "Variable 'indmom' set to zero. New R²: -0.008751825735544783, Importance: ('indmom', -0.02889264967180158)\n",
      "\u001B[1m2160/2160\u001B[0m \u001B[32m━━━━━━━━━━━━━━━━━━━━\u001B[0m\u001B[37m\u001B[0m \u001B[1m1s\u001B[0m 497us/step\n",
      "Variable 'mom1m' set to zero. New R²: -0.008450965659248633, Importance: ('mom1m', -0.02919350974809773)\n",
      "\u001B[1m2160/2160\u001B[0m \u001B[32m━━━━━━━━━━━━━━━━━━━━\u001B[0m\u001B[37m\u001B[0m \u001B[1m1s\u001B[0m 524us/step\n",
      "Variable 'mom6m' set to zero. New R²: -0.008428256542880153, Importance: ('mom6m', -0.02921621886446621)\n",
      "\u001B[1m2160/2160\u001B[0m \u001B[32m━━━━━━━━━━━━━━━━━━━━\u001B[0m\u001B[37m\u001B[0m \u001B[1m1s\u001B[0m 516us/step\n",
      "Variable 'mom12m' set to zero. New R²: -0.00843969432061531, Importance: ('mom12m', -0.029204781086731052)\n",
      "\u001B[1m2160/2160\u001B[0m \u001B[32m━━━━━━━━━━━━━━━━━━━━\u001B[0m\u001B[37m\u001B[0m \u001B[1m1s\u001B[0m 506us/step\n",
      "Variable 'mom36m' set to zero. New R²: -0.007463656108765759, Importance: ('mom36m', -0.030180819298580602)\n",
      "\u001B[1m2160/2160\u001B[0m \u001B[32m━━━━━━━━━━━━━━━━━━━━\u001B[0m\u001B[37m\u001B[0m \u001B[1m1s\u001B[0m 490us/step\n",
      "Variable 'pricedelay' set to zero. New R²: -0.009289966901080637, Importance: ('pricedelay', -0.028354508506265724)\n",
      "\u001B[1m2160/2160\u001B[0m \u001B[32m━━━━━━━━━━━━━━━━━━━━\u001B[0m\u001B[37m\u001B[0m \u001B[1m1s\u001B[0m 510us/step\n",
      "Variable 'turn' set to zero. New R²: -0.012379281371423412, Importance: ('turn', -0.02526519403592295)\n",
      "\u001B[1m2160/2160\u001B[0m \u001B[32m━━━━━━━━━━━━━━━━━━━━\u001B[0m\u001B[37m\u001B[0m \u001B[1m1s\u001B[0m 512us/step\n",
      "Variable 'absacc' set to zero. New R²: -0.00804381761089723, Importance: ('absacc', -0.02960065779644913)\n",
      "\u001B[1m2160/2160\u001B[0m \u001B[32m━━━━━━━━━━━━━━━━━━━━\u001B[0m\u001B[37m\u001B[0m \u001B[1m1s\u001B[0m 514us/step\n",
      "Variable 'acc' set to zero. New R²: -0.00863583681659641, Importance: ('acc', -0.029008638590749952)\n",
      "\u001B[1m2160/2160\u001B[0m \u001B[32m━━━━━━━━━━━━━━━━━━━━\u001B[0m\u001B[37m\u001B[0m \u001B[1m1s\u001B[0m 499us/step\n",
      "Variable 'age' set to zero. New R²: -0.008607493860640636, Importance: ('age', -0.029036981546705726)\n",
      "\u001B[1m2160/2160\u001B[0m \u001B[32m━━━━━━━━━━━━━━━━━━━━\u001B[0m\u001B[37m\u001B[0m \u001B[1m1s\u001B[0m 499us/step\n",
      "Variable 'agr' set to zero. New R²: -0.007744672221383642, Importance: ('agr', -0.02989980318596272)\n",
      "\u001B[1m2160/2160\u001B[0m \u001B[32m━━━━━━━━━━━━━━━━━━━━\u001B[0m\u001B[37m\u001B[0m \u001B[1m1s\u001B[0m 458us/step\n",
      "Variable 'bm' set to zero. New R²: -0.008685493615183226, Importance: ('bm', -0.028958981792163135)\n",
      "\u001B[1m2160/2160\u001B[0m \u001B[32m━━━━━━━━━━━━━━━━━━━━\u001B[0m\u001B[37m\u001B[0m \u001B[1m1s\u001B[0m 489us/step\n",
      "Variable 'bm_ia' set to zero. New R²: -0.008844749136893482, Importance: ('bm_ia', -0.02879972627045288)\n",
      "\u001B[1m2160/2160\u001B[0m \u001B[32m━━━━━━━━━━━━━━━━━━━━\u001B[0m\u001B[37m\u001B[0m \u001B[1m1s\u001B[0m 450us/step\n",
      "Variable 'cashdebt' set to zero. New R²: -0.007393524084540637, Importance: ('cashdebt', -0.030250951322805725)\n",
      "\u001B[1m2160/2160\u001B[0m \u001B[32m━━━━━━━━━━━━━━━━━━━━\u001B[0m\u001B[37m\u001B[0m \u001B[1m1s\u001B[0m 444us/step\n",
      "Variable 'cashpr' set to zero. New R²: -0.008832340884630918, Importance: ('cashpr', -0.028812134522715444)\n",
      "\u001B[1m2160/2160\u001B[0m \u001B[32m━━━━━━━━━━━━━━━━━━━━\u001B[0m\u001B[37m\u001B[0m \u001B[1m1s\u001B[0m 471us/step\n",
      "Variable 'cfp' set to zero. New R²: -0.007427694449899658, Importance: ('cfp', -0.030216780957446704)\n",
      "\u001B[1m2160/2160\u001B[0m \u001B[32m━━━━━━━━━━━━━━━━━━━━\u001B[0m\u001B[37m\u001B[0m \u001B[1m1s\u001B[0m 492us/step\n",
      "Variable 'cfp_ia' set to zero. New R²: -0.008431729756473993, Importance: ('cfp_ia', -0.029212745650872368)\n",
      "\u001B[1m2160/2160\u001B[0m \u001B[32m━━━━━━━━━━━━━━━━━━━━\u001B[0m\u001B[37m\u001B[0m \u001B[1m1s\u001B[0m 500us/step\n",
      "Variable 'chatoia' set to zero. New R²: -0.008029603162046817, Importance: ('chatoia', -0.029614872245299545)\n",
      "\u001B[1m2160/2160\u001B[0m \u001B[32m━━━━━━━━━━━━━━━━━━━━\u001B[0m\u001B[37m\u001B[0m \u001B[1m1s\u001B[0m 519us/step\n",
      "Variable 'chcsho' set to zero. New R²: -0.009219989343337565, Importance: ('chcsho', -0.028424486064008797)\n",
      "\u001B[1m2160/2160\u001B[0m \u001B[32m━━━━━━━━━━━━━━━━━━━━\u001B[0m\u001B[37m\u001B[0m \u001B[1m1s\u001B[0m 567us/step\n",
      "Variable 'chempia' set to zero. New R²: -0.008618682745930917, Importance: ('chempia', -0.029025792661415445)\n",
      "\u001B[1m2160/2160\u001B[0m \u001B[32m━━━━━━━━━━━━━━━━━━━━\u001B[0m\u001B[37m\u001B[0m \u001B[1m1s\u001B[0m 524us/step\n",
      "Variable 'chinv' set to zero. New R²: -0.008134962029619164, Importance: ('chinv', -0.029509513377727198)\n",
      "\u001B[1m2160/2160\u001B[0m \u001B[32m━━━━━━━━━━━━━━━━━━━━\u001B[0m\u001B[37m\u001B[0m \u001B[1m1s\u001B[0m 520us/step\n",
      "Variable 'chpmia' set to zero. New R²: -0.008384041352287985, Importance: ('chpmia', -0.029260434055058376)\n",
      "\u001B[1m2160/2160\u001B[0m \u001B[32m━━━━━━━━━━━━━━━━━━━━\u001B[0m\u001B[37m\u001B[0m \u001B[1m1s\u001B[0m 502us/step\n",
      "Variable 'convind' set to zero. New R²: -0.008839187108751645, Importance: ('convind', -0.028805288298594717)\n",
      "\u001B[1m2160/2160\u001B[0m \u001B[32m━━━━━━━━━━━━━━━━━━━━\u001B[0m\u001B[37m\u001B[0m \u001B[1m1s\u001B[0m 463us/step\n",
      "Variable 'currat' set to zero. New R²: -0.008787554335797143, Importance: ('currat', -0.02885692107154922)\n",
      "\u001B[1m2160/2160\u001B[0m \u001B[32m━━━━━━━━━━━━━━━━━━━━\u001B[0m\u001B[37m\u001B[0m \u001B[1m1s\u001B[0m 467us/step\n",
      "Variable 'depr' set to zero. New R²: -0.008542534978736471, Importance: ('depr', -0.02910194042860989)\n",
      "\u001B[1m2160/2160\u001B[0m \u001B[32m━━━━━━━━━━━━━━━━━━━━\u001B[0m\u001B[37m\u001B[0m \u001B[1m1s\u001B[0m 482us/step\n",
      "Variable 'divi' set to zero. New R²: -0.008349448728334874, Importance: ('divi', -0.029295026679011488)\n",
      "\u001B[1m2160/2160\u001B[0m \u001B[32m━━━━━━━━━━━━━━━━━━━━\u001B[0m\u001B[37m\u001B[0m \u001B[1m1s\u001B[0m 468us/step\n",
      "Variable 'divo' set to zero. New R²: -0.008289173515646286, Importance: ('divo', -0.029355301891700075)\n",
      "\u001B[1m2160/2160\u001B[0m \u001B[32m━━━━━━━━━━━━━━━━━━━━\u001B[0m\u001B[37m\u001B[0m \u001B[1m1s\u001B[0m 476us/step\n",
      "Variable 'dy' set to zero. New R²: -0.007983167416069303, Importance: ('dy', -0.02966130799127706)\n",
      "\u001B[1m2160/2160\u001B[0m \u001B[32m━━━━━━━━━━━━━━━━━━━━\u001B[0m\u001B[37m\u001B[0m \u001B[1m1s\u001B[0m 488us/step\n",
      "Variable 'egr' set to zero. New R²: -0.008631898803651783, Importance: ('egr', -0.02901257660369458)\n",
      "\u001B[1m2160/2160\u001B[0m \u001B[32m━━━━━━━━━━━━━━━━━━━━\u001B[0m\u001B[37m\u001B[0m \u001B[1m1s\u001B[0m 466us/step\n",
      "Variable 'ep_x' set to zero. New R²: -0.007912065647316835, Importance: ('ep_x', -0.029732409760029527)\n",
      "\u001B[1m2160/2160\u001B[0m \u001B[32m━━━━━━━━━━━━━━━━━━━━\u001B[0m\u001B[37m\u001B[0m \u001B[1m1s\u001B[0m 494us/step\n",
      "Variable 'gma' set to zero. New R²: -0.00804278838084338, Importance: ('gma', -0.029601687026502982)\n",
      "\u001B[1m2160/2160\u001B[0m \u001B[32m━━━━━━━━━━━━━━━━━━━━\u001B[0m\u001B[37m\u001B[0m \u001B[1m1s\u001B[0m 475us/step\n",
      "Variable 'grcapx' set to zero. New R²: -0.008484565516696074, Importance: ('grcapx', -0.029159909890650287)\n",
      "\u001B[1m2160/2160\u001B[0m \u001B[32m━━━━━━━━━━━━━━━━━━━━\u001B[0m\u001B[37m\u001B[0m \u001B[1m1s\u001B[0m 472us/step\n",
      "Variable 'grltnoa' set to zero. New R²: -0.007728645465489015, Importance: ('grltnoa', -0.029915829941857347)\n",
      "\u001B[1m2160/2160\u001B[0m \u001B[32m━━━━━━━━━━━━━━━━━━━━\u001B[0m\u001B[37m\u001B[0m \u001B[1m1s\u001B[0m 483us/step\n",
      "Variable 'herf' set to zero. New R²: -0.009436050066418344, Importance: ('herf', -0.028208425340928017)\n",
      "\u001B[1m2160/2160\u001B[0m \u001B[32m━━━━━━━━━━━━━━━━━━━━\u001B[0m\u001B[37m\u001B[0m \u001B[1m1s\u001B[0m 474us/step\n",
      "Variable 'hire' set to zero. New R²: -0.009067986312279341, Importance: ('hire', -0.02857648909506702)\n",
      "\u001B[1m2160/2160\u001B[0m \u001B[32m━━━━━━━━━━━━━━━━━━━━\u001B[0m\u001B[37m\u001B[0m \u001B[1m1s\u001B[0m 467us/step\n",
      "Variable 'invest' set to zero. New R²: -0.008507084693687217, Importance: ('invest', -0.029137390713659145)\n",
      "\u001B[1m2160/2160\u001B[0m \u001B[32m━━━━━━━━━━━━━━━━━━━━\u001B[0m\u001B[37m\u001B[0m \u001B[1m1s\u001B[0m 482us/step\n",
      "Variable 'lev' set to zero. New R²: -0.00814123479410167, Importance: ('lev', -0.02950324061324469)\n",
      "\u001B[1m2160/2160\u001B[0m \u001B[32m━━━━━━━━━━━━━━━━━━━━\u001B[0m\u001B[37m\u001B[0m \u001B[1m1s\u001B[0m 489us/step\n",
      "Variable 'lgr' set to zero. New R²: -0.008315944506740891, Importance: ('lgr', -0.02932853090060547)\n",
      "\u001B[1m2160/2160\u001B[0m \u001B[32m━━━━━━━━━━━━━━━━━━━━\u001B[0m\u001B[37m\u001B[0m \u001B[1m1s\u001B[0m 498us/step\n",
      "Variable 'mve_ia' set to zero. New R²: -0.009176466145121243, Importance: ('mve_ia', -0.02846800926222512)\n",
      "\u001B[1m2160/2160\u001B[0m \u001B[32m━━━━━━━━━━━━━━━━━━━━\u001B[0m\u001B[37m\u001B[0m \u001B[1m1s\u001B[0m 496us/step\n",
      "Variable 'operprof' set to zero. New R²: -0.008617345355036665, Importance: ('operprof', -0.029027130052309696)\n",
      "\u001B[1m2160/2160\u001B[0m \u001B[32m━━━━━━━━━━━━━━━━━━━━\u001B[0m\u001B[37m\u001B[0m \u001B[1m1s\u001B[0m 501us/step\n",
      "Variable 'orgcap' set to zero. New R²: -0.008362104235051238, Importance: ('orgcap', -0.029282371172295124)\n",
      "\u001B[1m2160/2160\u001B[0m \u001B[32m━━━━━━━━━━━━━━━━━━━━\u001B[0m\u001B[37m\u001B[0m \u001B[1m1s\u001B[0m 490us/step\n",
      "Variable 'pchcapx_ia' set to zero. New R²: -0.008725170049697972, Importance: ('pchcapx_ia', -0.02891930535764839)\n",
      "\u001B[1m2160/2160\u001B[0m \u001B[32m━━━━━━━━━━━━━━━━━━━━\u001B[0m\u001B[37m\u001B[0m \u001B[1m1s\u001B[0m 486us/step\n",
      "Variable 'pchcurrat' set to zero. New R²: -0.008800380341417835, Importance: ('pchcurrat', -0.028844095065928527)\n",
      "\u001B[1m2160/2160\u001B[0m \u001B[32m━━━━━━━━━━━━━━━━━━━━\u001B[0m\u001B[37m\u001B[0m \u001B[1m1s\u001B[0m 475us/step\n",
      "Variable 'pchdepr' set to zero. New R²: -0.008535641789201964, Importance: ('pchdepr', -0.029108833618144397)\n",
      "\u001B[1m2160/2160\u001B[0m \u001B[32m━━━━━━━━━━━━━━━━━━━━\u001B[0m\u001B[37m\u001B[0m \u001B[1m1s\u001B[0m 485us/step\n",
      "Variable 'pchgm_pchsale' set to zero. New R²: -0.008183031196160817, Importance: ('pchgm_pchsale', -0.029461444211185545)\n",
      "\u001B[1m2160/2160\u001B[0m \u001B[32m━━━━━━━━━━━━━━━━━━━━\u001B[0m\u001B[37m\u001B[0m \u001B[1m1s\u001B[0m 496us/step\n",
      "Variable 'pchquick' set to zero. New R²: -0.008510736351752035, Importance: ('pchquick', -0.029133739055594327)\n",
      "\u001B[1m2160/2160\u001B[0m \u001B[32m━━━━━━━━━━━━━━━━━━━━\u001B[0m\u001B[37m\u001B[0m \u001B[1m1s\u001B[0m 519us/step\n",
      "Variable 'pchsale_pchinvt' set to zero. New R²: -0.008122418502557682, Importance: ('pchsale_pchinvt', -0.02952205690478868)\n",
      "\u001B[1m2160/2160\u001B[0m \u001B[32m━━━━━━━━━━━━━━━━━━━━\u001B[0m\u001B[37m\u001B[0m \u001B[1m1s\u001B[0m 498us/step\n",
      "Variable 'pchsale_pchrect' set to zero. New R²: -0.008307981832855527, Importance: ('pchsale_pchrect', -0.029336493574490835)\n",
      "\u001B[1m2160/2160\u001B[0m \u001B[32m━━━━━━━━━━━━━━━━━━━━\u001B[0m\u001B[37m\u001B[0m \u001B[1m1s\u001B[0m 507us/step\n",
      "Variable 'pchsale_pchxsga' set to zero. New R²: -0.00835899760379788, Importance: ('pchsale_pchxsga', -0.029285477803548482)\n",
      "\u001B[1m2160/2160\u001B[0m \u001B[32m━━━━━━━━━━━━━━━━━━━━\u001B[0m\u001B[37m\u001B[0m \u001B[1m1s\u001B[0m 513us/step\n",
      "Variable 'pchsaleinv' set to zero. New R²: -0.008056951872750462, Importance: ('pchsaleinv', -0.0295875235345959)\n",
      "\u001B[1m2160/2160\u001B[0m \u001B[32m━━━━━━━━━━━━━━━━━━━━\u001B[0m\u001B[37m\u001B[0m \u001B[1m1s\u001B[0m 474us/step\n",
      "Variable 'pctacc' set to zero. New R²: -0.008910093847186662, Importance: ('pctacc', -0.0287343815601597)\n",
      "\u001B[1m2160/2160\u001B[0m \u001B[32m━━━━━━━━━━━━━━━━━━━━\u001B[0m\u001B[37m\u001B[0m \u001B[1m1s\u001B[0m 473us/step\n",
      "Variable 'ps' set to zero. New R²: -0.008032070355385557, Importance: ('ps', -0.029612405051960805)\n",
      "\u001B[1m2160/2160\u001B[0m \u001B[32m━━━━━━━━━━━━━━━━━━━━\u001B[0m\u001B[37m\u001B[0m \u001B[1m1s\u001B[0m 475us/step\n",
      "Variable 'quick' set to zero. New R²: -0.009374591677280275, Importance: ('quick', -0.028269883730066087)\n",
      "\u001B[1m2160/2160\u001B[0m \u001B[32m━━━━━━━━━━━━━━━━━━━━\u001B[0m\u001B[37m\u001B[0m \u001B[1m1s\u001B[0m 463us/step\n",
      "Variable 'rd' set to zero. New R²: -0.007766994478526135, Importance: ('rd', -0.029877480928820227)\n",
      "\u001B[1m2160/2160\u001B[0m \u001B[32m━━━━━━━━━━━━━━━━━━━━\u001B[0m\u001B[37m\u001B[0m \u001B[1m1s\u001B[0m 474us/step\n",
      "Variable 'rd_mve' set to zero. New R²: -0.00787544970949905, Importance: ('rd_mve', -0.029769025697847312)\n",
      "\u001B[1m2160/2160\u001B[0m \u001B[32m━━━━━━━━━━━━━━━━━━━━\u001B[0m\u001B[37m\u001B[0m \u001B[1m1s\u001B[0m 480us/step\n",
      "Variable 'rd_sale' set to zero. New R²: -0.008587721774927504, Importance: ('rd_sale', -0.029056753632418858)\n",
      "\u001B[1m2160/2160\u001B[0m \u001B[32m━━━━━━━━━━━━━━━━━━━━\u001B[0m\u001B[37m\u001B[0m \u001B[1m1s\u001B[0m 500us/step\n",
      "Variable 'realestate' set to zero. New R²: -0.008530003418495413, Importance: ('realestate', -0.02911447198885095)\n",
      "\u001B[1m2160/2160\u001B[0m \u001B[32m━━━━━━━━━━━━━━━━━━━━\u001B[0m\u001B[37m\u001B[0m \u001B[1m1s\u001B[0m 493us/step\n",
      "Variable 'roic' set to zero. New R²: -0.008363893105830966, Importance: ('roic', -0.029280582301515395)\n",
      "\u001B[1m2160/2160\u001B[0m \u001B[32m━━━━━━━━━━━━━━━━━━━━\u001B[0m\u001B[37m\u001B[0m \u001B[1m1s\u001B[0m 503us/step\n",
      "Variable 'salecash' set to zero. New R²: -0.009031515964867731, Importance: ('salecash', -0.02861295944247863)\n",
      "\u001B[1m2160/2160\u001B[0m \u001B[32m━━━━━━━━━━━━━━━━━━━━\u001B[0m\u001B[37m\u001B[0m \u001B[1m1s\u001B[0m 487us/step\n",
      "Variable 'saleinv' set to zero. New R²: -0.008614073986473958, Importance: ('saleinv', -0.029030401420872404)\n",
      "\u001B[1m2160/2160\u001B[0m \u001B[32m━━━━━━━━━━━━━━━━━━━━\u001B[0m\u001B[37m\u001B[0m \u001B[1m1s\u001B[0m 494us/step\n",
      "Variable 'salerec' set to zero. New R²: -0.008266712104663121, Importance: ('salerec', -0.02937776330268324)\n",
      "\u001B[1m2160/2160\u001B[0m \u001B[32m━━━━━━━━━━━━━━━━━━━━\u001B[0m\u001B[37m\u001B[0m \u001B[1m1s\u001B[0m 509us/step\n",
      "Variable 'secured' set to zero. New R²: -0.00795825291637886, Importance: ('secured', -0.0296862224909675)\n",
      "\u001B[1m2160/2160\u001B[0m \u001B[32m━━━━━━━━━━━━━━━━━━━━\u001B[0m\u001B[37m\u001B[0m \u001B[1m1s\u001B[0m 514us/step\n",
      "Variable 'securedind' set to zero. New R²: -0.007622070429336603, Importance: ('securedind', -0.03002240497800976)\n",
      "\u001B[1m2160/2160\u001B[0m \u001B[32m━━━━━━━━━━━━━━━━━━━━\u001B[0m\u001B[37m\u001B[0m \u001B[1m1s\u001B[0m 472us/step\n",
      "Variable 'sgr' set to zero. New R²: -0.007856555185275615, Importance: ('sgr', -0.029787920222070746)\n",
      "\u001B[1m2160/2160\u001B[0m \u001B[32m━━━━━━━━━━━━━━━━━━━━\u001B[0m\u001B[37m\u001B[0m \u001B[1m1s\u001B[0m 471us/step\n",
      "Variable 'sin' set to zero. New R²: -0.00850123723789542, Importance: ('sin', -0.02914323816945094)\n",
      "\u001B[1m2160/2160\u001B[0m \u001B[32m━━━━━━━━━━━━━━━━━━━━\u001B[0m\u001B[37m\u001B[0m \u001B[1m1s\u001B[0m 471us/step\n",
      "Variable 'sp' set to zero. New R²: -0.007423993796293882, Importance: ('sp', -0.03022048161105248)\n",
      "\u001B[1m2160/2160\u001B[0m \u001B[32m━━━━━━━━━━━━━━━━━━━━\u001B[0m\u001B[37m\u001B[0m \u001B[1m1s\u001B[0m 455us/step\n",
      "Variable 'tang' set to zero. New R²: -0.00873153665804316, Importance: ('tang', -0.028912938749303202)\n",
      "\u001B[1m2160/2160\u001B[0m \u001B[32m━━━━━━━━━━━━━━━━━━━━\u001B[0m\u001B[37m\u001B[0m \u001B[1m1s\u001B[0m 457us/step\n",
      "Variable 'tb' set to zero. New R²: -0.00838659440616274, Importance: ('tb', -0.029257881001183622)\n",
      "\u001B[1m2160/2160\u001B[0m \u001B[32m━━━━━━━━━━━━━━━━━━━━\u001B[0m\u001B[37m\u001B[0m \u001B[1m1s\u001B[0m 464us/step\n",
      "Variable 'aeavol' set to zero. New R²: -0.00867412222883912, Importance: ('aeavol', -0.02897035317850724)\n",
      "\u001B[1m2160/2160\u001B[0m \u001B[32m━━━━━━━━━━━━━━━━━━━━\u001B[0m\u001B[37m\u001B[0m \u001B[1m1s\u001B[0m 454us/step\n",
      "Variable 'cash' set to zero. New R²: -0.008542742762941424, Importance: ('cash', -0.029101732644404937)\n",
      "\u001B[1m2160/2160\u001B[0m \u001B[32m━━━━━━━━━━━━━━━━━━━━\u001B[0m\u001B[37m\u001B[0m \u001B[1m1s\u001B[0m 445us/step\n",
      "Variable 'chtx' set to zero. New R²: -0.00873457359567742, Importance: ('chtx', -0.028909901811668942)\n",
      "\u001B[1m2160/2160\u001B[0m \u001B[32m━━━━━━━━━━━━━━━━━━━━\u001B[0m\u001B[37m\u001B[0m \u001B[1m1s\u001B[0m 456us/step\n",
      "Variable 'cinvest' set to zero. New R²: -0.00804466683519256, Importance: ('cinvest', -0.029599808572153802)\n",
      "\u001B[1m2160/2160\u001B[0m \u001B[32m━━━━━━━━━━━━━━━━━━━━\u001B[0m\u001B[37m\u001B[0m \u001B[1m1s\u001B[0m 469us/step\n",
      "Variable 'ear' set to zero. New R²: -0.007974087996694745, Importance: ('ear', -0.029670387410651616)\n",
      "\u001B[1m2160/2160\u001B[0m \u001B[32m━━━━━━━━━━━━━━━━━━━━\u001B[0m\u001B[37m\u001B[0m \u001B[1m1s\u001B[0m 492us/step\n",
      "Variable 'nincr' set to zero. New R²: -0.007759669144345782, Importance: ('nincr', -0.02988480626300058)\n",
      "\u001B[1m2160/2160\u001B[0m \u001B[32m━━━━━━━━━━━━━━━━━━━━\u001B[0m\u001B[37m\u001B[0m \u001B[1m1s\u001B[0m 513us/step\n",
      "Variable 'roaq' set to zero. New R²: -0.00816228125930829, Importance: ('roaq', -0.02948219414803807)\n",
      "\u001B[1m2160/2160\u001B[0m \u001B[32m━━━━━━━━━━━━━━━━━━━━\u001B[0m\u001B[37m\u001B[0m \u001B[1m1s\u001B[0m 546us/step\n",
      "Variable 'roavol' set to zero. New R²: -0.008375260059688472, Importance: ('roavol', -0.02926921534765789)\n",
      "\u001B[1m2160/2160\u001B[0m \u001B[32m━━━━━━━━━━━━━━━━━━━━\u001B[0m\u001B[37m\u001B[0m \u001B[1m1s\u001B[0m 543us/step\n",
      "Variable 'roeq' set to zero. New R²: -0.008439851969352263, Importance: ('roeq', -0.0292046234379941)\n",
      "\u001B[1m2160/2160\u001B[0m \u001B[32m━━━━━━━━━━━━━━━━━━━━\u001B[0m\u001B[37m\u001B[0m \u001B[1m1s\u001B[0m 549us/step\n",
      "Variable 'rsup' set to zero. New R²: -0.00839641597459817, Importance: ('rsup', -0.02924805943274819)\n",
      "\u001B[1m2160/2160\u001B[0m \u001B[32m━━━━━━━━━━━━━━━━━━━━\u001B[0m\u001B[37m\u001B[0m \u001B[1m1s\u001B[0m 521us/step\n",
      "Variable 'stdacc' set to zero. New R²: -0.008423936755175498, Importance: ('stdacc', -0.029220538652170863)\n",
      "\u001B[1m2160/2160\u001B[0m \u001B[32m━━━━━━━━━━━━━━━━━━━━\u001B[0m\u001B[37m\u001B[0m \u001B[1m1s\u001B[0m 523us/step\n",
      "Variable 'stdcf' set to zero. New R²: -0.009465575250064528, Importance: ('stdcf', -0.028178900157281833)\n",
      "\u001B[1m2160/2160\u001B[0m \u001B[32m━━━━━━━━━━━━━━━━━━━━\u001B[0m\u001B[37m\u001B[0m \u001B[1m1s\u001B[0m 510us/step\n",
      "Variable 'ms' set to zero. New R²: -0.008958443612145706, Importance: ('ms', -0.028686031795200656)\n",
      "\u001B[1m2160/2160\u001B[0m \u001B[32m━━━━━━━━━━━━━━━━━━━━\u001B[0m\u001B[37m\u001B[0m \u001B[1m1s\u001B[0m 452us/step\n",
      "Variable 'baspread' set to zero. New R²: -0.00817358411126512, Importance: ('baspread', -0.029470891296081242)\n",
      "\u001B[1m2160/2160\u001B[0m \u001B[32m━━━━━━━━━━━━━━━━━━━━\u001B[0m\u001B[37m\u001B[0m \u001B[1m1s\u001B[0m 454us/step\n",
      "Variable 'ill' set to zero. New R²: -0.00865137781965264, Importance: ('ill', -0.028993097587693722)\n",
      "\u001B[1m2160/2160\u001B[0m \u001B[32m━━━━━━━━━━━━━━━━━━━━\u001B[0m\u001B[37m\u001B[0m \u001B[1m1s\u001B[0m 463us/step\n",
      "Variable 'maxret' set to zero. New R²: -0.010632792081196385, Importance: ('maxret', -0.027011683326149977)\n",
      "\u001B[1m2160/2160\u001B[0m \u001B[32m━━━━━━━━━━━━━━━━━━━━\u001B[0m\u001B[37m\u001B[0m \u001B[1m1s\u001B[0m 467us/step\n",
      "Variable 'retvol' set to zero. New R²: -0.01355728718971605, Importance: ('retvol', -0.024087188217630312)\n",
      "\u001B[1m2160/2160\u001B[0m \u001B[32m━━━━━━━━━━━━━━━━━━━━\u001B[0m\u001B[37m\u001B[0m \u001B[1m1s\u001B[0m 471us/step\n",
      "Variable 'std_dolvol' set to zero. New R²: -0.011805784885683623, Importance: ('std_dolvol', -0.02583869052166274)\n",
      "\u001B[1m2160/2160\u001B[0m \u001B[32m━━━━━━━━━━━━━━━━━━━━\u001B[0m\u001B[37m\u001B[0m \u001B[1m1s\u001B[0m 465us/step\n",
      "Variable 'std_turn' set to zero. New R²: -0.008011595653751424, Importance: ('std_turn', -0.029632879753594937)\n",
      "\u001B[1m2160/2160\u001B[0m \u001B[32m━━━━━━━━━━━━━━━━━━━━\u001B[0m\u001B[37m\u001B[0m \u001B[1m1s\u001B[0m 455us/step\n",
      "Variable 'zerotrade' set to zero. New R²: -0.008763348821562378, Importance: ('zerotrade', -0.028881126585783984)\n",
      "\u001B[1m2160/2160\u001B[0m \u001B[32m━━━━━━━━━━━━━━━━━━━━\u001B[0m\u001B[37m\u001B[0m \u001B[1m1s\u001B[0m 488us/step\n",
      "Variable 'dp' set to zero. New R²: -0.23834356048652894, Importance: ('dp', 0.20069908507918258)\n",
      "\u001B[1m2160/2160\u001B[0m \u001B[32m━━━━━━━━━━━━━━━━━━━━\u001B[0m\u001B[37m\u001B[0m \u001B[1m1s\u001B[0m 501us/step\n",
      "Variable 'ep_y' set to zero. New R²: -0.0007348759512206815, Importance: ('ep_y', -0.03690959945612568)\n",
      "\u001B[1m2160/2160\u001B[0m \u001B[32m━━━━━━━━━━━━━━━━━━━━\u001B[0m\u001B[37m\u001B[0m \u001B[1m1s\u001B[0m 469us/step\n",
      "Variable 'b/m' set to zero. New R²: -0.005688595647503014, Importance: ('b/m', -0.03195587975984335)\n",
      "\u001B[1m2160/2160\u001B[0m \u001B[32m━━━━━━━━━━━━━━━━━━━━\u001B[0m\u001B[37m\u001B[0m \u001B[1m1s\u001B[0m 493us/step\n",
      "Variable 'crsp_spvw' set to zero. New R²: -0.004682841231994139, Importance: ('crsp_spvw', -0.03296163417535222)\n",
      "\u001B[1m2160/2160\u001B[0m \u001B[32m━━━━━━━━━━━━━━━━━━━━\u001B[0m\u001B[37m\u001B[0m \u001B[1m1s\u001B[0m 496us/step\n",
      "Variable 'svar' set to zero. New R²: -0.008096054120221519, Importance: ('svar', -0.029548421287124843)\n",
      "\u001B[1m2160/2160\u001B[0m \u001B[32m━━━━━━━━━━━━━━━━━━━━\u001B[0m\u001B[37m\u001B[0m \u001B[1m1s\u001B[0m 459us/step\n",
      "Variable 'tbl' set to zero. New R²: -0.008468592736780245, Importance: ('tbl', -0.029175882670566117)\n",
      "\u001B[1m2160/2160\u001B[0m \u001B[32m━━━━━━━━━━━━━━━━━━━━\u001B[0m\u001B[37m\u001B[0m \u001B[1m1s\u001B[0m 452us/step\n",
      "Variable 'tms' set to zero. New R²: -0.007325556738176475, Importance: ('tms', -0.030318918669169886)\n",
      "\u001B[1m2160/2160\u001B[0m \u001B[32m━━━━━━━━━━━━━━━━━━━━\u001B[0m\u001B[37m\u001B[0m \u001B[1m1s\u001B[0m 464us/step\n",
      "Variable 'dfy' set to zero. New R²: -0.007534853399216557, Importance: ('dfy', -0.030109622008129805)\n",
      "\u001B[1m2160/2160\u001B[0m \u001B[32m━━━━━━━━━━━━━━━━━━━━\u001B[0m\u001B[37m\u001B[0m \u001B[1m1s\u001B[0m 473us/step\n",
      "Variable 'dfr' set to zero. New R²: -0.007845065141989238, Importance: ('dfr', -0.029799410265357124)\n",
      "\u001B[1m2160/2160\u001B[0m \u001B[32m━━━━━━━━━━━━━━━━━━━━\u001B[0m\u001B[37m\u001B[0m \u001B[1m1s\u001B[0m 465us/step\n",
      "Variable 'ntis' set to zero. New R²: -0.009508608251107109, Importance: ('ntis', -0.028135867156239253)\n",
      "\u001B[1m2160/2160\u001B[0m \u001B[32m━━━━━━━━━━━━━━━━━━━━\u001B[0m\u001B[37m\u001B[0m \u001B[1m1s\u001B[0m 476us/step\n",
      "Variable 'infl' set to zero. New R²: -0.00921414144448085, Importance: ('infl', -0.02843033396286551)\n"
     ]
    }
   ],
   "source": [
    "def variable_importance(X, y, feature_name, model, baseline_r2):\n",
    "    importances = {}\n",
    "    \n",
    "    # Iterate over all features\n",
    "    for i in range(X.shape[1]):  \n",
    "        X_temp = X.copy()\n",
    "        X_temp[:, i] = 0  # Set the ith feature to zero\n",
    "        \n",
    "        y_pred = model.predict(X_temp)\n",
    "        \n",
    "        ss_res = np.sum((y - y_pred.T) ** 2)\n",
    "        ss_tot = np.sum((y) ** 2)\n",
    "        r2_out_of_sample = 1 - (ss_res / ss_tot)\n",
    "        \n",
    "        # \"Importance\" is the decrease in OOS R2\n",
    "        importances[i] = (feature_name[i], (baseline_r2 - r2_out_of_sample))\n",
    "        \n",
    "        print(f\"Variable '{feature_name[i]}' set to zero. New R²: {r2_out_of_sample}, Importance: {importances[i]}\")\n",
    "\n",
    "    return importances\n",
    "\n",
    "# Get the feature name index from X_NN\n",
    "feature_name = X_NN.columns\n",
    "\n",
    "# Calculate variable importance for the best model\n",
    "importances = variable_importance(X_test, y_test, feature_name, model=NN_2, baseline_r2=r2_oos_2_mean)\n",
    "\n",
    "# Sort importance in descending order\n",
    "importances_sorted = sorted(importances.items(), key=lambda item: item[1][1], reverse=True)\n",
    "\n",
    "# Display top 10 most important variables\n",
    "top_10_important_vars = importances_sorted[:10]"
   ],
   "metadata": {
    "collapsed": false,
    "ExecuteTime": {
     "end_time": "2024-05-30T19:49:22.209560300Z",
     "start_time": "2024-05-30T19:46:44.543398800Z"
    }
   },
   "id": "ddc9687e8779eade"
  },
  {
   "cell_type": "code",
   "execution_count": 5,
   "outputs": [
    {
     "name": "stdout",
     "output_type": "stream",
     "text": [
      "the top 10 important variables are:\n"
     ]
    },
    {
     "data": {
      "text/plain": "[(94, ('dp', 0.20069908507918258)),\n (90, ('retvol', -0.024087188217630312)),\n (12, ('turn', -0.02526519403592295)),\n (91, ('std_dolvol', -0.02583869052166274)),\n (89, ('maxret', -0.027011683326149977)),\n (103, ('ntis', -0.028135867156239253)),\n (85, ('stdcf', -0.028178900157281833)),\n (39, ('herf', -0.028208425340928017)),\n (58, ('quick', -0.028269883730066087)),\n (11, ('pricedelay', -0.028354508506265724))]"
     },
     "execution_count": 5,
     "metadata": {},
     "output_type": "execute_result"
    }
   ],
   "source": [
    "print(\"the top 10 important variables are:\")\n",
    "top_10_important_vars"
   ],
   "metadata": {
    "collapsed": false,
    "ExecuteTime": {
     "end_time": "2024-05-30T19:49:22.215841400Z",
     "start_time": "2024-05-30T19:49:22.214729700Z"
    }
   },
   "id": "43d5ff1226d7f60c"
  },
  {
   "cell_type": "markdown",
   "source": [
    "Second, get a measure of the joint importance of all our “macro predictors” (i.e., those taken from Welch and Goyal 2008), by setting them all to zero and finding the decrease in out of sample R2. Comment on how important macroeconomic variables are relative to stock characteristics in predicting returns. "
   ],
   "metadata": {
    "collapsed": false
   },
   "id": "7301a7ec04588dec"
  },
  {
   "cell_type": "code",
   "execution_count": 28,
   "outputs": [
    {
     "name": "stdout",
     "output_type": "stream",
     "text": [
      "Starting to drop macro variables:\n",
      "Index(['dp', 'ep', 'b/m', 'crsp_spvw', 'svar', 'tbl', 'tms', 'dfy', 'dfr',\n",
      "       'ntis', 'infl'],\n",
      "      dtype='object')\n",
      "Eliminating macro variables:\n",
      "dp\n",
      "Eliminating macro variables:\n",
      "b/m\n",
      "Eliminating macro variables:\n",
      "crsp_spvw\n",
      "Eliminating macro variables:\n",
      "svar\n",
      "Eliminating macro variables:\n",
      "tbl\n",
      "Eliminating macro variables:\n",
      "tms\n",
      "Eliminating macro variables:\n",
      "dfy\n",
      "Eliminating macro variables:\n",
      "dfr\n",
      "Eliminating macro variables:\n",
      "ntis\n",
      "Eliminating macro variables:\n",
      "infl\n",
      "\u001B[1m2160/2160\u001B[0m \u001B[32m━━━━━━━━━━━━━━━━━━━━\u001B[0m\u001B[37m\u001B[0m \u001B[1m1s\u001B[0m 512us/step\n",
      "Setting all macro predictors to zero. New R²: -0.20386689303288597, Joint Importance: 0.1662224176255396\n"
     ]
    },
    {
     "data": {
      "text/plain": "0.1662224176255396"
     },
     "execution_count": 28,
     "metadata": {},
     "output_type": "execute_result"
    }
   ],
   "source": [
    "def macro_importance(X, y, model, macro_variables, baseline_r2):\n",
    "    importance = {}\n",
    "    \n",
    "    X_temp = X.copy()\n",
    "    \n",
    "    # Iterate over macro features\n",
    "    for var in macro_variables:\n",
    "        if var in X_NN.columns:\n",
    "            indices = X_NN.columns.get_loc(var)\n",
    "            print(\"Eliminating macro variables:\")\n",
    "            print(X_NN.columns[indices])\n",
    "            X_temp[:, indices] = 0\n",
    "    \n",
    "        \n",
    "    y_pred = model.predict(X_temp)\n",
    "        \n",
    "    ss_res = np.sum((y - y_pred.T) ** 2)\n",
    "    ss_tot = np.sum((y) ** 2)\n",
    "    r2_out_of_sample = 1 - (ss_res / ss_tot)\n",
    "        \n",
    "    # \"Importance\" is the decrease in OOS R2\n",
    "    importance = baseline_r2 - r2_out_of_sample\n",
    "        \n",
    "    print(f\"Setting all macro predictors to zero. New R²: {r2_out_of_sample}, Joint Importance: {importance}\")\n",
    "\n",
    "    return importance\n",
    "\n",
    "# Get the macro variables\n",
    "# Note: \"date\" does not include in macro variables\n",
    "macro_variables = macro_data.columns\n",
    "macro_variables = macro_variables.drop(\"date\")\n",
    "print(\"Starting to drop macro variables:\")\n",
    "print(macro_variables)\n",
    "\n",
    "# Calculate variable importance for the best model\n",
    "joint_importance = macro_importance(X_test, y_test, model=NN_2, macro_variables=macro_variables, baseline_r2=r2_oos_2_mean)\n",
    "\n",
    "joint_importance"
   ],
   "metadata": {
    "collapsed": false,
    "ExecuteTime": {
     "end_time": "2024-05-30T20:18:12.793838Z",
     "start_time": "2024-05-30T20:18:11.189215200Z"
    }
   },
   "id": "18f0683d7b986be8"
  }
 ],
 "metadata": {
  "kernelspec": {
   "display_name": "Python 3",
   "language": "python",
   "name": "python3"
  },
  "language_info": {
   "codemirror_mode": {
    "name": "ipython",
    "version": 2
   },
   "file_extension": ".py",
   "mimetype": "text/x-python",
   "name": "python",
   "nbconvert_exporter": "python",
   "pygments_lexer": "ipython2",
   "version": "2.7.6"
  }
 },
 "nbformat": 4,
 "nbformat_minor": 5
}
